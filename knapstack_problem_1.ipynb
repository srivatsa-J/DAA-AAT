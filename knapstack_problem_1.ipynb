{
  "nbformat": 4,
  "nbformat_minor": 0,
  "metadata": {
    "colab": {
      "provenance": []
    },
    "kernelspec": {
      "name": "python3",
      "display_name": "Python 3"
    },
    "language_info": {
      "name": "python"
    }
  },
  "cells": [
    {
      "cell_type": "code",
      "execution_count": 1,
      "metadata": {
        "id": "cErSIMc6lpDA"
      },
      "outputs": [],
      "source": [
        "\n",
        "import math\n",
        "import os\n",
        "import random\n",
        "import re\n",
        "import sys\n",
        "\n",
        "def unboundedKnapsack(k, arr):\n",
        "    dp = [0] * (k + 1)\n",
        "    for i in range(1, k + 1):\n",
        "        for num in arr:\n",
        "            if num <= i:\n",
        "                dp[i] = max(dp[i], dp[i - num] + num)\n",
        "    return dp[k]\n",
        "\n",
        "if __name__ == '__main__':\n",
        "    fptr = open(os.environ['OUTPUT_PATH'], 'w')\n",
        "\n",
        "    t = int(input().strip())\n",
        "    results = []\n",
        "\n",
        "    for _ in range(t):\n",
        "        n, k = map(int, input().strip().split())\n",
        "        arr = list(map(int, input().strip().split()))\n",
        "        results.append(unboundedKnapsack(k, arr))\n",
        "\n",
        "    for result in results:\n",
        "        fptr.write(str(result) + '\\n')\n",
        "\n",
        "    fptr.close()\n"
      ]
    }
  ]
}