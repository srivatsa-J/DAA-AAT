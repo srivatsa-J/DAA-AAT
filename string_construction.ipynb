{
  "nbformat": 4,
  "nbformat_minor": 0,
  "metadata": {
    "colab": {
      "provenance": []
    },
    "kernelspec": {
      "name": "python3",
      "display_name": "Python 3"
    },
    "language_info": {
      "name": "python"
    }
  },
  "cells": [
    {
      "cell_type": "code",
      "execution_count": null,
      "metadata": {
        "id": "o4-GXU_QmmdW"
      },
      "outputs": [],
      "source": [
        "import sys\n",
        "\n",
        "def stringConstruction(s):\n",
        "    return len(set(s))\n",
        "\n",
        "\n",
        "if __name__ == \"__main__\":\n",
        "    q = int(input().strip())\n",
        "    for a0 in range(q):\n",
        "        s = input().strip()\n",
        "        result = stringConstruction(s)\n",
        "        print(result)\n"
      ]
    }
  ]
}