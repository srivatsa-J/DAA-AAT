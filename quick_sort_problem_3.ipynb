{
  "nbformat": 4,
  "nbformat_minor": 0,
  "metadata": {
    "colab": {
      "provenance": []
    },
    "kernelspec": {
      "name": "python3",
      "display_name": "Python 3"
    },
    "language_info": {
      "name": "python"
    }
  },
  "cells": [
    {
      "cell_type": "code",
      "execution_count": null,
      "metadata": {
        "id": "34SeKnecmZvp"
      },
      "outputs": [],
      "source": [
        "\n",
        "\n",
        "import math\n",
        "import os\n",
        "import random\n",
        "import re\n",
        "import sys\n",
        "\n",
        "def quickSort(arr):\n",
        "    pivot = arr[0]\n",
        "    left = []\n",
        "    equal = []\n",
        "    right = []\n",
        "\n",
        "    for x in arr:\n",
        "        if x < pivot:\n",
        "            left.append(x)\n",
        "        elif x == pivot:\n",
        "            equal.append(x)\n",
        "        else:\n",
        "            right.append(x)\n",
        "\n",
        "    return left + equal + right\n",
        "\n",
        "if __name__ == '__main__':\n",
        "    fptr = open(os.environ['OUTPUT_PATH'], 'w')\n",
        "\n",
        "    n = int(input().strip())\n",
        "\n",
        "    arr = list(map(int, input().rstrip().split()))\n",
        "\n",
        "    result = quickSort(arr)\n",
        "\n",
        "    fptr.write(' '.join(map(str, result)))\n",
        "    fptr.write('\\n')\n",
        "\n",
        "    fptr.close()\n"
      ]
    }
  ]
}